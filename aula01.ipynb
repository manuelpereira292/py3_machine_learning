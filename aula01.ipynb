{
 "nbformat": 4,
 "nbformat_minor": 2,
 "metadata": {
  "language_info": {
   "name": "python",
   "codemirror_mode": {
    "name": "ipython",
    "version": 2
   }
  },
  "orig_nbformat": 2,
  "file_extension": ".py",
  "mimetype": "text/x-python",
  "name": "python",
  "npconvert_exporter": "python",
  "pygments_lexer": "ipython2",
  "version": 2
 },
 "cells": [
  {
   "cell_type": "code",
   "execution_count": null,
   "metadata": {},
   "outputs": [],
   "source": [
    "Data Types\n",
    "\n",
    "To analyze data, it is important to know what type of data we are dealing with.\n",
    "\n",
    "We can split the data types into three main categories:\n",
    "\n",
    "Numerical\n",
    "Categorical\n",
    "Ordinal\n",
    "Numerical data are numbers, and can be split into two numerical categories:\n",
    "\n",
    "Discrete Data\n",
    "- numbers that are limited to integers. Example: The number of cars passing by.\n",
    "Continuous Data\n",
    "- numbers that are of infinite value. Example: The price of an item, or the size of an item\n",
    "Categorical data are values that cannot be measured up against each other. Example: a color value, or any yes/no values.\n",
    "\n",
    "Ordinal data are like categorical data, but can be measured up against each other. Example: school grades where A is better than B and so on.\n",
    "\n",
    "By knowing the data type of your data source, you will be able to know what technique to use when analyzing them."
   ]
  }
 ]
}